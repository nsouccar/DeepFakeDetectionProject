{
 "cells": [
  {
   "cell_type": "code",
   "execution_count": 1,
   "metadata": {
    "collapsed": true,
    "deletable": true,
    "editable": true
   },
   "outputs": [],
   "source": [
    "import python_eulerian_video_magnification as evm\n",
    "from python_eulerian_video_magnification.metadata import __init__\n",
    "from python_eulerian_video_magnification.magnify import __init__\n",
    "import python_eulerian_video_magnification.magnifymotion\n",
    "import python_eulerian_video_magnification.magnifycolor\n",
    "import os\n",
    "import cv2\n",
    "import numpy as np\n",
    "import dlib\n",
    "import imutils\n",
    "#from moviepy.video.io.ffmpeg_tools import ffmpeg_extract_subclip\n"
   ]
  },
  {
   "cell_type": "code",
   "execution_count": 2,
   "metadata": {
    "collapsed": false,
    "deletable": true,
    "editable": true,
    "scrolled": false
   },
   "outputs": [
    {
     "ename": "FileNotFoundError",
     "evalue": "[WinError 3] The system cannot find the path specified: 'wrist_video_frames'",
     "output_type": "error",
     "traceback": [
      "\u001b[1;31m---------------------------------------------------------------------------\u001b[0m",
      "\u001b[1;31mFileNotFoundError\u001b[0m                         Traceback (most recent call last)",
      "\u001b[1;32m<ipython-input-2-6888e3c0dbeb>\u001b[0m in \u001b[0;36m<module>\u001b[1;34m\u001b[0m\n\u001b[1;32m----> 1\u001b[1;33m \u001b[0mlen\u001b[0m\u001b[1;33m(\u001b[0m\u001b[0mos\u001b[0m\u001b[1;33m.\u001b[0m\u001b[0mlistdir\u001b[0m\u001b[1;33m(\u001b[0m\u001b[1;34m'wrist_video_frames'\u001b[0m\u001b[1;33m)\u001b[0m\u001b[1;33m)\u001b[0m \u001b[1;33m-\u001b[0m \u001b[1;33m(\u001b[0m\u001b[0mlen\u001b[0m\u001b[1;33m(\u001b[0m\u001b[0mos\u001b[0m\u001b[1;33m.\u001b[0m\u001b[0mlistdir\u001b[0m\u001b[1;33m(\u001b[0m\u001b[1;34m'wrist_video_frames'\u001b[0m\u001b[1;33m)\u001b[0m\u001b[1;33m)\u001b[0m \u001b[1;33m%\u001b[0m \u001b[1;36m4\u001b[0m\u001b[1;33m)\u001b[0m\u001b[1;33m\u001b[0m\u001b[1;33m\u001b[0m\u001b[0m\n\u001b[0m",
      "\u001b[1;31mFileNotFoundError\u001b[0m: [WinError 3] The system cannot find the path specified: 'wrist_video_frames'"
     ]
    }
   ],
   "source": [
    " len(os.listdir('wrist_video_frames')) - (len(os.listdir('wrist_video_frames')) % 4)\n"
   ]
  },
  {
   "cell_type": "code",
   "execution_count": 2,
   "metadata": {
    "collapsed": true,
    "deletable": true,
    "editable": true
   },
   "outputs": [],
   "source": [
    "def save_video(video_tensor: np.ndarray, out_file_name) -> None:\n",
    "    \n",
    "    # four_cc = cv2.VideoWriter_fourcc('M', 'J', 'P', 'G')\n",
    "    four_cc = cv2.VideoWriter_fourcc('m', 'p', '4', 'v')\n",
    "    [height, width] = video_tensor[0].shape[0:2]\n",
    "    writer = cv2.VideoWriter(out_file_name, four_cc, 30, (width, height), 1)\n",
    "    for i in range(0, video_tensor.shape[0]):\n",
    "        writer.write(cv2.convertScaleAbs(video_tensor[i]))\n",
    "    writer.release() \n",
    "\n",
    "\n",
    "\n",
    "\n",
    "#main.save_video(filter_tensor_list)"
   ]
  },
  {
   "cell_type": "markdown",
   "metadata": {
    "deletable": true,
    "editable": true
   },
   "source": [
    "## "
   ]
  },
  {
   "cell_type": "markdown",
   "metadata": {
    "deletable": true,
    "editable": true
   },
   "source": [
    "## "
   ]
  },
  {
   "cell_type": "code",
   "execution_count": 5,
   "metadata": {
    "collapsed": false,
    "deletable": true,
    "editable": true
   },
   "outputs": [
    {
     "name": "stdout",
     "output_type": "stream",
     "text": [
      "crazy_lady.mp4\n"
     ]
    }
   ],
   "source": [
    "mimi = Magnify_Video(\"dfdc_train_part_0/fonrexmbzz.mp4\", \"crazy_lady.mp4\")\n",
    "print(mimi.video_name)\n",
    "mimi.get_frames(\"C:/Users/Noa/AppData/Local/Programs/Python/Python38/Scripts/{}_frames\".format(mimi.video_name), mimi.video_name, mimi.video)\n",
    "\n",
    "def get_range(path):\n",
    "    \n",
    "    detector = dlib.get_frontal_face_detector()\n",
    "    left = []\n",
    "    right = []\n",
    "    top = []\n",
    "    bottom = []\n",
    "    for img in os.listdir(path):\n",
    "        image = cv2.imread(path + \"/\" + img)\n",
    "        image = imutils.resize(image, width=500)\n",
    "\n",
    "        gray = cv2.cvtColor(image, cv2.COLOR_BGR2GRAY)\n",
    "        dets = detector(gray, 1)\n",
    "        for d in dets:\n",
    "            cv2.rectangle(image,(d.left(), d.top()), (d.right(), d.bottom()), 255, 1)          \n",
    "            left.append(d.left())\n",
    "            right.append(d.right())\n",
    "            top.append(d.top())\n",
    "            bottom.append(d.bottom())\n",
    "        \n",
    "    return (min(left), min(top)), (max(right), max(bottom))\n",
    "\n",
    "\n"
   ]
  },
  {
   "cell_type": "code",
   "execution_count": 4,
   "metadata": {
    "collapsed": false,
    "deletable": true,
    "editable": true
   },
   "outputs": [
    {
     "ename": "AttributeError",
     "evalue": "'NoneType' object has no attribute 'shape'",
     "output_type": "error",
     "traceback": [
      "\u001b[1;31m---------------------------------------------------------------------------\u001b[0m",
      "\u001b[1;31mAttributeError\u001b[0m                            Traceback (most recent call last)",
      "\u001b[1;32m<ipython-input-4-f6507d1b5129>\u001b[0m in \u001b[0;36m<module>\u001b[1;34m\u001b[0m\n\u001b[0;32m      1\u001b[0m \u001b[0mimage\u001b[0m \u001b[1;33m=\u001b[0m \u001b[0mcv2\u001b[0m\u001b[1;33m.\u001b[0m\u001b[0mimread\u001b[0m\u001b[1;33m(\u001b[0m\u001b[1;34m\"C:/Users/Noa/AppData/Local/Programs/Python/Python38/Scripts/crazy_lady_heh.mp4_frames/frame00.jpg\"\u001b[0m\u001b[1;33m)\u001b[0m\u001b[1;33m\u001b[0m\u001b[1;33m\u001b[0m\u001b[0m\n\u001b[0;32m      2\u001b[0m \u001b[1;33m\u001b[0m\u001b[0m\n\u001b[1;32m----> 3\u001b[1;33m \u001b[0mimage\u001b[0m \u001b[1;33m=\u001b[0m \u001b[0mimutils\u001b[0m\u001b[1;33m.\u001b[0m\u001b[0mresize\u001b[0m\u001b[1;33m(\u001b[0m\u001b[0mimage\u001b[0m\u001b[1;33m,\u001b[0m \u001b[0mwidth\u001b[0m\u001b[1;33m=\u001b[0m\u001b[1;36m500\u001b[0m\u001b[1;33m)\u001b[0m\u001b[1;33m\u001b[0m\u001b[1;33m\u001b[0m\u001b[0m\n\u001b[0m\u001b[0;32m      4\u001b[0m \u001b[0mpoints\u001b[0m \u001b[1;33m=\u001b[0m \u001b[0mget_range\u001b[0m\u001b[1;33m(\u001b[0m\u001b[1;34m\"C:/Users/Noa/AppData/Local/Programs/Python/Python38/Scripts/{}_frames\"\u001b[0m\u001b[1;33m.\u001b[0m\u001b[0mformat\u001b[0m\u001b[1;33m(\u001b[0m\u001b[0mmimi\u001b[0m\u001b[1;33m.\u001b[0m\u001b[0mvideo_name\u001b[0m\u001b[1;33m)\u001b[0m\u001b[1;33m)\u001b[0m\u001b[1;33m\u001b[0m\u001b[1;33m\u001b[0m\u001b[0m\n\u001b[0;32m      5\u001b[0m \u001b[0mprint\u001b[0m\u001b[1;33m(\u001b[0m\u001b[0mpoints\u001b[0m\u001b[1;33m)\u001b[0m\u001b[1;33m\u001b[0m\u001b[1;33m\u001b[0m\u001b[0m\n",
      "\u001b[1;32mc:\\users\\noa\\appdata\\local\\programs\\python\\python38\\lib\\site-packages\\imutils\\convenience.py\u001b[0m in \u001b[0;36mresize\u001b[1;34m(image, width, height, inter)\u001b[0m\n\u001b[0;32m     67\u001b[0m     \u001b[1;31m# grab the image size\u001b[0m\u001b[1;33m\u001b[0m\u001b[1;33m\u001b[0m\u001b[1;33m\u001b[0m\u001b[0m\n\u001b[0;32m     68\u001b[0m     \u001b[0mdim\u001b[0m \u001b[1;33m=\u001b[0m \u001b[1;32mNone\u001b[0m\u001b[1;33m\u001b[0m\u001b[1;33m\u001b[0m\u001b[0m\n\u001b[1;32m---> 69\u001b[1;33m     \u001b[1;33m(\u001b[0m\u001b[0mh\u001b[0m\u001b[1;33m,\u001b[0m \u001b[0mw\u001b[0m\u001b[1;33m)\u001b[0m \u001b[1;33m=\u001b[0m \u001b[0mimage\u001b[0m\u001b[1;33m.\u001b[0m\u001b[0mshape\u001b[0m\u001b[1;33m[\u001b[0m\u001b[1;33m:\u001b[0m\u001b[1;36m2\u001b[0m\u001b[1;33m]\u001b[0m\u001b[1;33m\u001b[0m\u001b[1;33m\u001b[0m\u001b[0m\n\u001b[0m\u001b[0;32m     70\u001b[0m \u001b[1;33m\u001b[0m\u001b[0m\n\u001b[0;32m     71\u001b[0m     \u001b[1;31m# if both the width and height are None, then return the\u001b[0m\u001b[1;33m\u001b[0m\u001b[1;33m\u001b[0m\u001b[1;33m\u001b[0m\u001b[0m\n",
      "\u001b[1;31mAttributeError\u001b[0m: 'NoneType' object has no attribute 'shape'"
     ]
    }
   ],
   "source": [
    "image = cv2.imread(\"C:/Users/Noa/AppData/Local/Programs/Python/Python38/Scripts/crazy_lady_heh.mp4_frames/frame00.jpg\")\n",
    "\n",
    "image = imutils.resize(image, width=500)\n",
    "points = get_range(\"C:/Users/Noa/AppData/Local/Programs/Python/Python38/Scripts/{}_frames\".format(mimi.video_name))\n",
    "print(points)\n",
    "cv2.rectangle(image, points[0], points[1], 255, 1)\n",
    "#cv2.imshow(\"window\", image)\n",
    "cropped_image = image[points[0][1]:points[1][1],points[0][0]:points[1][0]]\n",
    "cv2.imshow(\"haha\", cropped_image)\n",
    "cv2.waitKey(0)  \n",
    "  \n",
    "#closing all open windows  \n",
    "cv2.destroyAllWindows()  \n",
    "#cv2.imwrite(\"C:/Users/Noa/AppData/Local/Programs/Python/Python38/Scripts/crazy_lady.mp4_frames/frame00.jpg\", cropped_image)\n",
    "\n",
    "# using the idexing method cropping \n",
    "# the image in this way\n",
    "#cv2.imshow(\"Cropped_Image\",cropped)\n",
    "\n"
   ]
  },
  {
   "cell_type": "code",
   "execution_count": 5,
   "metadata": {
    "collapsed": true,
    "deletable": true,
    "editable": true
   },
   "outputs": [],
   "source": [
    "image = cv2.imread(\"C:/Users/Noa/AppData/Local/Programs/Python/Python38/Scripts/crazy_lady.mp4_frames/frame01.jpg\")\n",
    "cv2.imshow(\"m\", image)\n"
   ]
  },
  {
   "cell_type": "code",
   "execution_count": 13,
   "metadata": {
    "collapsed": true,
    "deletable": true,
    "editable": true
   },
   "outputs": [],
   "source": [
    "class Magnify_Video:\n",
    "    \n",
    "    def __init__(self, path, video_name):\n",
    "        self.video = cv2.VideoCapture(path)\n",
    "        self.path = path\n",
    "        self.video_name = video_name\n",
    "        \n",
    "    def save_video(self, video_tensor: np.ndarray, out_file_name) -> None:\n",
    "        # four_cc = cv2.VideoWriter_fourcc('M', 'J', 'P', 'G')\n",
    "        four_cc = cv2.VideoWriter_fourcc('m', 'p', '4', 'v')\n",
    "        [height, width] = video_tensor[0].shape[0:2]\n",
    "        writer = cv2.VideoWriter(out_file_name, four_cc, 30, (width, height), 1)\n",
    "        for i in range(0, video_tensor.shape[0]):\n",
    "            writer.write(cv2.convertScaleAbs(video_tensor[i]))\n",
    "        writer.release() \n",
    "        \n",
    "    \n",
    "    def get_frames(self, path, video_in_name, video, vid_count = 0):\n",
    "        newpath = path\n",
    "        if not os.path.exists(newpath):\n",
    "            os.makedirs(newpath)\n",
    "        \n",
    "        success,image = video.read()\n",
    "        count = 0\n",
    "        while success:\n",
    "            frame_number =  str(vid_count) + str(count)\n",
    "\n",
    "            cv2.imwrite(video_in_name + \"_frames/frame\" + frame_number + \".jpg\", image)         \n",
    "            success,image = video.read()\n",
    "            count += 1\n",
    "            \n",
    "    \n",
    "    def get_range(self, path):\n",
    "        detector = dlib.get_frontal_face_detector()\n",
    "        left = []\n",
    "        right = []\n",
    "        top = []\n",
    "        bottom = []\n",
    "        image = cv2.imread(path + \"/\" + os.listdir(path)[8])\n",
    "        image = imutils.resize(image, width=500)\n",
    "        gray = cv2.cvtColor(image, cv2.COLOR_BGR2GRAY)\n",
    "        dets = detector(gray, 1)\n",
    "        for d in dets:\n",
    "            cv2.rectangle(image,(d.left(), d.top()), (d.right(), d.bottom()), 255, 1)          \n",
    "            left.append(d.left())\n",
    "            right.append(d.right())\n",
    "            top.append(d.top())\n",
    "            bottom.append(d.bottom())\n",
    "        \n",
    "        return (left[0], top[0], right[0], bottom[0])\n",
    "    \n",
    "    \n",
    "    def prepare_frames(self, path):\n",
    "        points = self.get_range(path)\n",
    "        print(points)\n",
    "        for image in os.listdir(path):\n",
    "            img = cv2.imread(path + \"/\" + image)\n",
    "            img = imutils.resize(img, width=500)\n",
    "\n",
    "            cropped_image = img[points[0][1]:points[1][1],points[0][0]:(points[1][0] + 20)]\n",
    "            dst = cv2.fastNlMeansDenoisingColored(cropped_image,None,10,10,7,21)\n",
    "\n",
    "\n",
    "            cv2.imwrite(path + \"/\" + image, dst)\n",
    "\n",
    "        \n",
    "    def concoct_frames(self,frame_array,pathOut,fps, size):\n",
    "   \n",
    " \n",
    "        out = cv2.VideoWriter(pathOut,cv2.VideoWriter_fourcc(*'DIVX'), fps, size)\n",
    " \n",
    "        for i in range(len(frame_array)):\n",
    "            # writing to a image array\n",
    "            out.write(frame_array[i])\n",
    "        out.release()\n",
    "    \n",
    "    def magnify_video(self):\n",
    "        self.get_frames(\"C:/Users/Noa/AppData/Local/Programs/Python/Python38/Scripts/{}_frames\".format(self.video_name), self.video_name, self.video)\n",
    "        self.prepare_frames(\"C:/Users/Noa/AppData/Local/Programs/Python/Python38/Scripts/{}_frames\".format(self.video_name))\n",
    "        pathIn = self.video_name + \"_frames\"\n",
    "        num_of_frames =  len(os.listdir(pathIn)) - (len(os.listdir(pathIn)) % 4)\n",
    "        newpath = \"C:/Users/Noa/AppData/Local/Programs/Python/Python38/Scripts/{}_clips\".format(self.video_name)\n",
    "        if not os.path.exists(newpath):\n",
    "            os.makedirs(newpath)\n",
    "        clip = 0\n",
    "        while(clip < (num_of_frames/4)):\n",
    "            frame_one = cv2.imread(pathIn + \"/\" + os.listdir(pathIn)[clip])\n",
    "            frame_two = cv2.imread(pathIn + \"/\" + os.listdir(pathIn)[clip + 1])\n",
    "            frame_three = cv2.imread(pathIn + \"/\" + os.listdir(pathIn)[clip + 2])\n",
    "            frame_four = cv2.imread(pathIn + \"/\" + os.listdir(pathIn)[clip + 3])\n",
    "            height, width, layers = frame_four.shape\n",
    "            size = (width,height)\n",
    "            print(size)\n",
    "            \n",
    "            \n",
    "            out_path = newpath + \"/clip\" + str(clip) + \".mp4\"\n",
    "            frame_array = [frame_one, frame_two, frame_three, frame_four]\n",
    "            \n",
    "            self.concoct_frames(frame_array, out_path, 30.0, size)\n",
    "            clip += 3\n",
    "            \n",
    "        path = \"C:/Users/Noa/AppData/Local/Programs/Python/Python38/Scripts/{}_clips_magnified\".format(self.video_name)\n",
    "        if not os.path.exists(path):\n",
    "            os.makedirs(path)\n",
    "        for clips in os.listdir(newpath):\n",
    "            mo = evm.mode.Mode(2)\n",
    "            file_name = self.video_name + \"_clips/\" + clips\n",
    "            m = evm.metadata.MetaData(file_name, self.video_name + \"_clips_magnified\", mo, \".mp4\", 0.01, 0.05, 1, 80)\n",
    "            main = evm.magnify.Magnify(m)\n",
    "            magnify_motion = evm.magnifymotion.MagnifyMotion(m)\n",
    "            video_tensor, fps = main.load_video()\n",
    "            magnify_motion.do_magnify()\n",
    "\n",
    "        count = 0    \n",
    "        for c in os.listdir(path):\n",
    "            count += 1\n",
    "            video = cv2.VideoCapture(path + \"/\" + c)\n",
    "            folder = \"C:/Users/Noa/AppData/Local/Programs/Python/Python38/Scripts/{}_magnified_frames\".format(self.video_name)\n",
    "            video_in_name = self.video_name + \"_magnified\"\n",
    "            self.get_frames(folder, video_in_name, video, count)\n",
    "            \n",
    "        mag_frame_array = []\n",
    "        root = \"C:/Users/Noa/AppData/Local/Programs/Python/Python38/Scripts/{}_magnified_frames\".format(self.video_name)\n",
    "        for frame in os.listdir(root):\n",
    "            img = cv2.imread(root + \"/\" + frame)\n",
    "            mag_frame_array.append(img)\n",
    "             \n",
    "        width, length, layers = mag_frame_array[0].shape\n",
    "        shape = (width, length)\n",
    "        self.concoct_frames(mag_frame_array,\"C:/Users/Noa/AppData/Local/Programs/Python/Python38/Scripts/{}_magnified.mp4\".format(self.video_name),30, size)\n",
    "       \n",
    "    \n",
    "\n",
    "  \n",
    "            \n",
    "\n",
    "            \n",
    "            \n",
    "#mag = Magnify_Video(\"face-source.mp4\", \"face_magnified_color13.mp4\")\n",
    "#mag.magnify_video()\n",
    "\n",
    "\n",
    "    "
   ]
  },
  {
   "cell_type": "code",
   "execution_count": 14,
   "metadata": {
    "collapsed": true,
    "deletable": true,
    "editable": true
   },
   "outputs": [],
   "source": [
    "mid = cv2.VideoCapture(\"C:/Users/Noa/AppData/Local/Programs/Python/Python38-32/Scripts/face_magnified_color11\")\n",
    "vid = cv2.VideoCapture(\"C:/Users/Noa/AppData/Local/Programs/Python/Python38-32/Scripts/face-source.mp4\")\n",
    "frame_count = int(vid.get(cv2.CAP_PROP_FRAME_COUNT))\n",
    " \n",
    "width, height = int(vid.get(cv2.CAP_PROP_FRAME_WIDTH)), int(vid.get(cv2.CAP_PROP_FRAME_HEIGHT))\n",
    "tensor =(frame_count, height, width, 3)\n"
   ]
  },
  {
   "cell_type": "code",
   "execution_count": 15,
   "metadata": {
    "collapsed": false,
    "deletable": true,
    "editable": true,
    "scrolled": true
   },
   "outputs": [
    {
     "name": "stdout",
     "output_type": "stream",
     "text": [
      "frame00.jpg\n"
     ]
    },
    {
     "ename": "IndexError",
     "evalue": "list index out of range",
     "output_type": "error",
     "traceback": [
      "\u001b[1;31m---------------------------------------------------------------------------\u001b[0m",
      "\u001b[1;31mIndexError\u001b[0m                                Traceback (most recent call last)",
      "\u001b[1;32m<ipython-input-15-15f219ea1f36>\u001b[0m in \u001b[0;36m<module>\u001b[1;34m\u001b[0m\n\u001b[0;32m      1\u001b[0m \u001b[0mmamama\u001b[0m \u001b[1;33m=\u001b[0m \u001b[0mMagnify_Video\u001b[0m\u001b[1;33m(\u001b[0m\u001b[1;34m\"dfdc_train_part_0/ygknkubeyb.mp4\"\u001b[0m\u001b[1;33m,\u001b[0m \u001b[1;34m\"fake_me!.mp4\"\u001b[0m\u001b[1;33m)\u001b[0m\u001b[1;33m\u001b[0m\u001b[1;33m\u001b[0m\u001b[0m\n\u001b[1;32m----> 2\u001b[1;33m \u001b[0mmamama\u001b[0m\u001b[1;33m.\u001b[0m\u001b[0mmagnify_video\u001b[0m\u001b[1;33m(\u001b[0m\u001b[1;33m)\u001b[0m\u001b[1;33m\u001b[0m\u001b[1;33m\u001b[0m\u001b[0m\n\u001b[0m\u001b[0;32m      3\u001b[0m \u001b[0mmimi\u001b[0m \u001b[1;33m=\u001b[0m \u001b[0mMagnify_Video\u001b[0m\u001b[1;33m(\u001b[0m\u001b[1;34m\"dfdc_train_part_0/nweufafotd.mp4\"\u001b[0m\u001b[1;33m,\u001b[0m \u001b[1;34m\"real_me!.mp4\"\u001b[0m\u001b[1;33m)\u001b[0m\u001b[1;33m\u001b[0m\u001b[1;33m\u001b[0m\u001b[0m\n\u001b[0;32m      4\u001b[0m \u001b[0mmimi\u001b[0m\u001b[1;33m.\u001b[0m\u001b[0mmagnify_video\u001b[0m\u001b[1;33m(\u001b[0m\u001b[1;33m)\u001b[0m\u001b[1;33m\u001b[0m\u001b[1;33m\u001b[0m\u001b[0m\n\u001b[0;32m      5\u001b[0m \u001b[1;33m\u001b[0m\u001b[0m\n",
      "\u001b[1;32m<ipython-input-13-9afaeee3057f>\u001b[0m in \u001b[0;36mmagnify_video\u001b[1;34m(self)\u001b[0m\n\u001b[0;32m     78\u001b[0m     \u001b[1;32mdef\u001b[0m \u001b[0mmagnify_video\u001b[0m\u001b[1;33m(\u001b[0m\u001b[0mself\u001b[0m\u001b[1;33m)\u001b[0m\u001b[1;33m:\u001b[0m\u001b[1;33m\u001b[0m\u001b[1;33m\u001b[0m\u001b[0m\n\u001b[0;32m     79\u001b[0m         \u001b[0mself\u001b[0m\u001b[1;33m.\u001b[0m\u001b[0mget_frames\u001b[0m\u001b[1;33m(\u001b[0m\u001b[1;34m\"C:/Users/Noa/AppData/Local/Programs/Python/Python38/Scripts/{}_frames\"\u001b[0m\u001b[1;33m.\u001b[0m\u001b[0mformat\u001b[0m\u001b[1;33m(\u001b[0m\u001b[0mself\u001b[0m\u001b[1;33m.\u001b[0m\u001b[0mvideo_name\u001b[0m\u001b[1;33m)\u001b[0m\u001b[1;33m,\u001b[0m \u001b[0mself\u001b[0m\u001b[1;33m.\u001b[0m\u001b[0mvideo_name\u001b[0m\u001b[1;33m,\u001b[0m \u001b[0mself\u001b[0m\u001b[1;33m.\u001b[0m\u001b[0mvideo\u001b[0m\u001b[1;33m)\u001b[0m\u001b[1;33m\u001b[0m\u001b[1;33m\u001b[0m\u001b[0m\n\u001b[1;32m---> 80\u001b[1;33m         \u001b[0mself\u001b[0m\u001b[1;33m.\u001b[0m\u001b[0mprepare_frames\u001b[0m\u001b[1;33m(\u001b[0m\u001b[1;34m\"C:/Users/Noa/AppData/Local/Programs/Python/Python38/Scripts/{}_frames\"\u001b[0m\u001b[1;33m.\u001b[0m\u001b[0mformat\u001b[0m\u001b[1;33m(\u001b[0m\u001b[0mself\u001b[0m\u001b[1;33m.\u001b[0m\u001b[0mvideo_name\u001b[0m\u001b[1;33m)\u001b[0m\u001b[1;33m)\u001b[0m\u001b[1;33m\u001b[0m\u001b[1;33m\u001b[0m\u001b[0m\n\u001b[0m\u001b[0;32m     81\u001b[0m         \u001b[0mpathIn\u001b[0m \u001b[1;33m=\u001b[0m \u001b[0mself\u001b[0m\u001b[1;33m.\u001b[0m\u001b[0mvideo_name\u001b[0m \u001b[1;33m+\u001b[0m \u001b[1;34m\"_frames\"\u001b[0m\u001b[1;33m\u001b[0m\u001b[1;33m\u001b[0m\u001b[0m\n\u001b[0;32m     82\u001b[0m         \u001b[0mnum_of_frames\u001b[0m \u001b[1;33m=\u001b[0m  \u001b[0mlen\u001b[0m\u001b[1;33m(\u001b[0m\u001b[0mos\u001b[0m\u001b[1;33m.\u001b[0m\u001b[0mlistdir\u001b[0m\u001b[1;33m(\u001b[0m\u001b[0mpathIn\u001b[0m\u001b[1;33m)\u001b[0m\u001b[1;33m)\u001b[0m \u001b[1;33m-\u001b[0m \u001b[1;33m(\u001b[0m\u001b[0mlen\u001b[0m\u001b[1;33m(\u001b[0m\u001b[0mos\u001b[0m\u001b[1;33m.\u001b[0m\u001b[0mlistdir\u001b[0m\u001b[1;33m(\u001b[0m\u001b[0mpathIn\u001b[0m\u001b[1;33m)\u001b[0m\u001b[1;33m)\u001b[0m \u001b[1;33m%\u001b[0m \u001b[1;36m4\u001b[0m\u001b[1;33m)\u001b[0m\u001b[1;33m\u001b[0m\u001b[1;33m\u001b[0m\u001b[0m\n",
      "\u001b[1;32m<ipython-input-13-9afaeee3057f>\u001b[0m in \u001b[0;36mprepare_frames\u001b[1;34m(self, path)\u001b[0m\n\u001b[0;32m     53\u001b[0m \u001b[1;33m\u001b[0m\u001b[0m\n\u001b[0;32m     54\u001b[0m     \u001b[1;32mdef\u001b[0m \u001b[0mprepare_frames\u001b[0m\u001b[1;33m(\u001b[0m\u001b[0mself\u001b[0m\u001b[1;33m,\u001b[0m \u001b[0mpath\u001b[0m\u001b[1;33m)\u001b[0m\u001b[1;33m:\u001b[0m\u001b[1;33m\u001b[0m\u001b[1;33m\u001b[0m\u001b[0m\n\u001b[1;32m---> 55\u001b[1;33m         \u001b[0mpoints\u001b[0m \u001b[1;33m=\u001b[0m \u001b[0mself\u001b[0m\u001b[1;33m.\u001b[0m\u001b[0mget_range\u001b[0m\u001b[1;33m(\u001b[0m\u001b[0mpath\u001b[0m\u001b[1;33m)\u001b[0m\u001b[1;33m\u001b[0m\u001b[1;33m\u001b[0m\u001b[0m\n\u001b[0m\u001b[0;32m     56\u001b[0m         \u001b[0mprint\u001b[0m\u001b[1;33m(\u001b[0m\u001b[0mpoints\u001b[0m\u001b[1;33m)\u001b[0m\u001b[1;33m\u001b[0m\u001b[1;33m\u001b[0m\u001b[0m\n\u001b[0;32m     57\u001b[0m         \u001b[1;32mfor\u001b[0m \u001b[0mimage\u001b[0m \u001b[1;32min\u001b[0m \u001b[0mos\u001b[0m\u001b[1;33m.\u001b[0m\u001b[0mlistdir\u001b[0m\u001b[1;33m(\u001b[0m\u001b[0mpath\u001b[0m\u001b[1;33m)\u001b[0m\u001b[1;33m:\u001b[0m\u001b[1;33m\u001b[0m\u001b[1;33m\u001b[0m\u001b[0m\n",
      "\u001b[1;32m<ipython-input-13-9afaeee3057f>\u001b[0m in \u001b[0;36mget_range\u001b[1;34m(self, path)\u001b[0m\n\u001b[0;32m     49\u001b[0m             \u001b[0mbottom\u001b[0m\u001b[1;33m.\u001b[0m\u001b[0mappend\u001b[0m\u001b[1;33m(\u001b[0m\u001b[0md\u001b[0m\u001b[1;33m.\u001b[0m\u001b[0mbottom\u001b[0m\u001b[1;33m(\u001b[0m\u001b[1;33m)\u001b[0m\u001b[1;33m)\u001b[0m\u001b[1;33m\u001b[0m\u001b[1;33m\u001b[0m\u001b[0m\n\u001b[0;32m     50\u001b[0m \u001b[1;33m\u001b[0m\u001b[0m\n\u001b[1;32m---> 51\u001b[1;33m         \u001b[1;32mreturn\u001b[0m \u001b[1;33m(\u001b[0m\u001b[0mleft\u001b[0m\u001b[1;33m[\u001b[0m\u001b[1;36m0\u001b[0m\u001b[1;33m]\u001b[0m\u001b[1;33m,\u001b[0m \u001b[0mtop\u001b[0m\u001b[1;33m[\u001b[0m\u001b[1;36m0\u001b[0m\u001b[1;33m]\u001b[0m\u001b[1;33m,\u001b[0m \u001b[0mright\u001b[0m\u001b[1;33m[\u001b[0m\u001b[1;36m0\u001b[0m\u001b[1;33m]\u001b[0m\u001b[1;33m,\u001b[0m \u001b[0mbottom\u001b[0m\u001b[1;33m[\u001b[0m\u001b[1;36m0\u001b[0m\u001b[1;33m]\u001b[0m\u001b[1;33m)\u001b[0m\u001b[1;33m\u001b[0m\u001b[1;33m\u001b[0m\u001b[0m\n\u001b[0m\u001b[0;32m     52\u001b[0m \u001b[1;33m\u001b[0m\u001b[0m\n\u001b[0;32m     53\u001b[0m \u001b[1;33m\u001b[0m\u001b[0m\n",
      "\u001b[1;31mIndexError\u001b[0m: list index out of range"
     ]
    }
   ],
   "source": [
    "mamama = Magnify_Video(\"dfdc_train_part_0/ygknkubeyb.mp4\", \"fake_me!.mp4\")\n",
    "mamama.magnify_video()\n",
    "mimi = Magnify_Video(\"dfdc_train_part_0/nweufafotd.mp4\", \"real_me!.mp4\")\n",
    "mimi.magnify_video()\n",
    "\n"
   ]
  },
  {
   "cell_type": "code",
   "execution_count": null,
   "metadata": {
    "collapsed": true,
    "deletable": true,
    "editable": true
   },
   "outputs": [],
   "source": []
  }
 ],
 "metadata": {
  "kernelspec": {
   "display_name": "Python 3",
   "language": "python",
   "name": "python3"
  },
  "language_info": {
   "codemirror_mode": {
    "name": "ipython",
    "version": 3
   },
   "file_extension": ".py",
   "mimetype": "text/x-python",
   "name": "python",
   "nbconvert_exporter": "python",
   "pygments_lexer": "ipython3",
   "version": "3.5.2"
  }
 },
 "nbformat": 4,
 "nbformat_minor": 4
}
